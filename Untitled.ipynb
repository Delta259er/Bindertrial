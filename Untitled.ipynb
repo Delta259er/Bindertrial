{
 "cells": [
  {
   "cell_type": "markdown",
   "id": "08745389",
   "metadata": {},
   "source": [
    "## Intro to slides"
   ]
  },
  {
   "cell_type": "raw",
   "id": "64c9e963",
   "metadata": {},
   "source": [
    "There is information here"
   ]
  },
  {
   "cell_type": "markdown",
   "id": "4d36d57c",
   "metadata": {},
   "source": [
    "Slide 1"
   ]
  },
  {
   "cell_type": "markdown",
   "id": "9b13d3cc",
   "metadata": {},
   "source": [
    "Embed video"
   ]
  }
 ],
 "metadata": {
  "kernelspec": {
   "display_name": "Python 3 (ipykernel)",
   "language": "python",
   "name": "python3"
  },
  "language_info": {
   "codemirror_mode": {
    "name": "ipython",
    "version": 3
   },
   "file_extension": ".py",
   "mimetype": "text/x-python",
   "name": "python",
   "nbconvert_exporter": "python",
   "pygments_lexer": "ipython3",
   "version": "3.8.13"
  }
 },
 "nbformat": 4,
 "nbformat_minor": 5
}
